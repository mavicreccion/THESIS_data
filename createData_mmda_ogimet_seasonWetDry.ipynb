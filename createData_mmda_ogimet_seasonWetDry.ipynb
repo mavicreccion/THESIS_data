{
 "cells": [
  {
   "cell_type": "code",
   "execution_count": 1,
   "metadata": {
    "collapsed": true
   },
   "outputs": [],
   "source": [
    "import numpy as np\n",
    "import pandas as pd\n",
    "import datetime\n",
    "from sklearn.preprocessing import minmax_scale"
   ]
  },
  {
   "cell_type": "markdown",
   "metadata": {},
   "source": [
    "# Get Weather Dataset"
   ]
  },
  {
   "cell_type": "code",
   "execution_count": 2,
   "metadata": {
    "collapsed": true
   },
   "outputs": [],
   "source": [
    "def normalize(data):\n",
    "    data = minmax_scale(data)\n",
    "    return data\n",
    "\n",
    "weather_dataset = pd.read_csv('interpolated_weather_with_precip_2015_3.csv', skipinitialspace=True, encoding='cp1252')\n",
    "weather_dataset = weather_dataset.drop(['Date'], axis=1)\n",
    "\n",
    "columns = weather_dataset.columns\n",
    "for column in columns:\n",
    "    weather_dataset[column] = normalize(weather_dataset[column])"
   ]
  },
  {
   "cell_type": "markdown",
   "metadata": {},
   "source": [
    "# Get wet and dry season"
   ]
  },
  {
   "cell_type": "code",
   "execution_count": 3,
   "metadata": {
    "collapsed": true
   },
   "outputs": [],
   "source": [
    "roads = [\"A. Maceda\", \"Anda Circle\", \"Antipolo\", \"Bluementritt\", \"Buendia\", \"Edsa Extension\", \"Finance Road\", \"Gov. Forbes - Lacson\", \"Lerma\", \"Magsaysay Ave\", \"P.Noval\", \"Pablo Ocampo\", \"Pedro Gil\", \"Quezon Ave.\", \"Quirino\", \"Rajah Sulayman\", \"Taft Ave.\", \"U.N. Avenue\", \"Vicente Cruz\"]"
   ]
  },
  {
   "cell_type": "code",
   "execution_count": 4,
   "metadata": {
    "collapsed": true
   },
   "outputs": [],
   "source": [
    "def getWetDrySeasons(my_dataset):\n",
    "    # choose wet (jun to oct) season\n",
    "    start_date = '2015-06-01 00:00:00'\n",
    "    end_date = '2015-10-31 23:45:00'\n",
    "    wet_mask = (my_dataset['dt'] >= start_date) & (my_dataset['dt'] <= end_date)\n",
    "    wet_dataset = my_dataset.loc[wet_mask]\n",
    "    \n",
    "    # choose dry (nov to dec, jan to may)\n",
    "    first_start_date = '2015-01-01 00:00:00'\n",
    "    first_end_date = '2015-05-31 23:45:00'\n",
    "    second_start_date = '2015-11-1 00:00:00'\n",
    "    second_end_date = '2015-12-31 23:45:00'\n",
    "    first_dry_mask = (my_dataset['dt'] >= first_start_date) & (my_dataset['dt'] <= first_end_date)\n",
    "    second_dry_mask = (my_dataset['dt'] >= second_start_date) & (my_dataset['dt'] <= second_end_date)\n",
    "    dry_dataset = my_dataset.loc[first_dry_mask]\n",
    "    dry_dataset = pd.concat([dry_dataset, my_dataset.loc[second_dry_mask]])\n",
    "    \n",
    "    return wet_dataset, dry_dataset"
   ]
  },
  {
   "cell_type": "code",
   "execution_count": 6,
   "metadata": {
    "collapsed": true
   },
   "outputs": [],
   "source": [
    "for road in roads:\n",
    "    traffic_dataset = pd.read_csv('mmda_2015_transformed/mmda_' + road + '_2015_transformed.csv', skipinitialspace=True, encoding='cp1252')\n",
    "    traffic_dataset = traffic_dataset[['dt', 'statusN', 'statusS']]\n",
    "    \n",
    "    # merge traffic and weather dataset\n",
    "    dataset = pd.concat([traffic_dataset, weather_dataset], axis=1, join='inner')\n",
    "    \n",
    "    # ensure dt is datetime\n",
    "    dataset['dt'] = pd.to_datetime(dataset['dt']) \n",
    "    \n",
    "    # get wet and dry season dataset\n",
    "    wet_dataset, dry_dataset = getWetDrySeasons(dataset)\n",
    "    \n",
    "    # make 'dt' the index\n",
    "    wet_dataset = wet_dataset.set_index(['dt'])\n",
    "    dry_dataset = dry_dataset.set_index(['dt'])\n",
    "    \n",
    "    # save to csv\n",
    "    wet_dataset.to_csv('merged_mmda_ogimet_2015_seasonDryWet/merged_mmda_ogimet_' + road + '_2015_seasonWet.csv')\n",
    "    dry_dataset.to_csv('merged_mmda_ogimet_2015_seasonDryWet/merged_mmda_ogimet_' + road + '_2015_seasonDry.csv')"
   ]
  },
  {
   "cell_type": "code",
   "execution_count": null,
   "metadata": {
    "collapsed": true
   },
   "outputs": [],
   "source": []
  }
 ],
 "metadata": {
  "kernelspec": {
   "display_name": "Python 3",
   "language": "python",
   "name": "python3"
  },
  "language_info": {
   "codemirror_mode": {
    "name": "ipython",
    "version": 3
   },
   "file_extension": ".py",
   "mimetype": "text/x-python",
   "name": "python",
   "nbconvert_exporter": "python",
   "pygments_lexer": "ipython3",
   "version": "3.6.3"
  }
 },
 "nbformat": 4,
 "nbformat_minor": 2
}
