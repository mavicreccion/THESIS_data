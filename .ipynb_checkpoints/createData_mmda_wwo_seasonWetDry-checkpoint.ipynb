{
 "cells": [
  {
   "cell_type": "code",
   "execution_count": 1,
   "metadata": {
    "collapsed": true
   },
   "outputs": [],
   "source": [
    "import numpy as np\n",
    "import pandas as pd\n",
    "import datetime\n",
    "from sklearn.preprocessing import minmax_scale"
   ]
  },
  {
   "cell_type": "code",
   "execution_count": 2,
   "metadata": {
    "collapsed": true
   },
   "outputs": [],
   "source": [
    "def normalize(data):\n",
    "    data = minmax_scale(data)\n",
    "    return data"
   ]
  },
  {
   "cell_type": "code",
   "execution_count": 4,
   "metadata": {
    "collapsed": true
   },
   "outputs": [],
   "source": [
    "def getWetDrySeasons(my_dataset):\n",
    "    # choose wet (jun to oct) season\n",
    "    start_date = '2015-06-01 00:00:00'\n",
    "    end_date = '2015-10-31 23:45:00'\n",
    "    wet_mask = (my_dataset.index >= start_date) & (my_dataset.index <= end_date)\n",
    "    wet_dataset = my_dataset.loc[wet_mask]\n",
    "    \n",
    "    # choose dry (nov to dec, jan to may)\n",
    "    first_start_date = '2015-01-01 00:00:00'\n",
    "    first_end_date = '2015-05-31 23:45:00'\n",
    "    second_start_date = '2015-11-1 00:00:00'\n",
    "    second_end_date = '2015-12-31 23:45:00'\n",
    "    first_dry_mask = (my_dataset.index >= first_start_date) & (my_dataset.index <= first_end_date)\n",
    "    second_dry_mask = (my_dataset.index >= second_start_date) & (my_dataset.index <= second_end_date)\n",
    "    dry_dataset = my_dataset.loc[first_dry_mask]\n",
    "    dry_dataset = pd.concat([dry_dataset, my_dataset.loc[second_dry_mask]])\n",
    "    \n",
    "    return wet_dataset, dry_dataset"
   ]
  },
  {
   "cell_type": "code",
   "execution_count": 3,
   "metadata": {
    "collapsed": true
   },
   "outputs": [],
   "source": [
    "roads = [\"A. Maceda\", \"Anda Circle\", \"Antipolo\", \"Bluementritt\", \"Buendia\", \"Edsa Extension\", \"Finance Road\", \"Gov. Forbes - Lacson\", \"Lerma\", \"Magsaysay Ave\", \"P.Noval\", \"Pablo Ocampo\", \"Pedro Gil\", \"Quezon Ave.\", \"Quirino\", \"Rajah Sulayman\", \"Taft Ave.\", \"U.N. Avenue\", \"Vicente Cruz\"]"
   ]
  },
  {
   "cell_type": "code",
   "execution_count": 6,
   "metadata": {
    "collapsed": true
   },
   "outputs": [],
   "source": [
    "for road in roads:\n",
    "    # obtain raw data\n",
    "    dataset = pd.read_csv('raw/raw_mmda_wwo_2015/raw_mmda_wwo_' + road + '_2015.csv', index_col=['dt'], skipinitialspace=True, encoding='cp1252')\n",
    "    \n",
    "    # ensure is datetime\n",
    "    dataset.index = pd.to_datetime(dataset.index) \n",
    "    \n",
    "    # get wet and dry season dataset\n",
    "    wet_dataset, dry_dataset = getWetDrySeasons(dataset)\n",
    "    \n",
    "    # save RAW to csv\n",
    "    wet_dataset.to_csv('raw/raw_mmda_wwo_2015_seasonDryWet/raw_mmda_wwo_' + road + '_2015_seasonWet.csv')\n",
    "    dry_dataset.to_csv('raw/raw_mmda_wwo_2015_seasonDryWet/raw_mmda_wwo_' + road + '_2015_seasonDry.csv')\n",
    "    \n",
    "    # normalize\n",
    "    columns = dataset.columns\n",
    "    for column in columns:\n",
    "        wet_dataset[column] = normalize(wet_dataset[column])\n",
    "        dry_dataset[column] = normalize(dry_dataset[column])\n",
    "    \n",
    "    # save NORMALIZED to csv\n",
    "    wet_dataset.to_csv('normalized/normalized_mmda_wwo_2015_seasonDryWet/normalized_mmda_wwo_' + road + '_2015_seasonWet.csv')\n",
    "    dry_dataset.to_csv('normalized/normalized_mmda_wwo_2015_seasonDryWet/normalized_mmda_wwo_' + road + '_2015_seasonDry.csv')\n",
    "    "
   ]
  }
 ],
 "metadata": {
  "kernelspec": {
   "display_name": "Python 3",
   "language": "python",
   "name": "python3"
  },
  "language_info": {
   "codemirror_mode": {
    "name": "ipython",
    "version": 3
   },
   "file_extension": ".py",
   "mimetype": "text/x-python",
   "name": "python",
   "nbconvert_exporter": "python",
   "pygments_lexer": "ipython3",
   "version": "3.6.3"
  }
 },
 "nbformat": 4,
 "nbformat_minor": 2
}
