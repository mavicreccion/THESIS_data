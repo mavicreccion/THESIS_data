{
 "cells": [
  {
   "cell_type": "code",
   "execution_count": 1,
   "metadata": {
    "collapsed": true
   },
   "outputs": [],
   "source": [
    "import numpy as np\n",
    "import pandas as pd\n",
    "import datetime"
   ]
  },
  {
   "cell_type": "markdown",
   "metadata": {},
   "source": [
    "# Get weather dataset"
   ]
  },
  {
   "cell_type": "code",
   "execution_count": 2,
   "metadata": {
    "collapsed": true
   },
   "outputs": [],
   "source": [
    "weather_dataset = pd.read_csv('weather_wwo_manila_2015.csv', skipinitialspace=True, encoding='cp1252')\n",
    "cols = [\"tempC\", \"windspeedKmph\", \"cond\", \"precipMM\", \"humidity\", \"visibility\", \"pressure\", \"cloudcover\", \"heatIndexC\", \"dewPointC\", \"windChillC\", \"windGustKmph\", \"feelsLikeC\"]\n",
    "weather_dataset = weather_dataset[cols]"
   ]
  },
  {
   "cell_type": "code",
   "execution_count": 3,
   "metadata": {
    "collapsed": true
   },
   "outputs": [],
   "source": [
    "roads = [\"A. Maceda\", \"Anda Circle\", \"Antipolo\", \"Bluementritt\", \"Buendia\", \"Edsa Extension\", \"Finance Road\", \"Gov. Forbes - Lacson\", \"Lerma\", \"Magsaysay Ave\", \"P.Noval\", \"Pablo Ocampo\", \"Pedro Gil\", \"Quezon Ave.\", \"Quirino\", \"Rajah Sulayman\", \"Taft Ave.\", \"U.N. Avenue\", \"Vicente Cruz\"]"
   ]
  },
  {
   "cell_type": "markdown",
   "metadata": {},
   "source": [
    "# Get wet and dry season"
   ]
  },
  {
   "cell_type": "code",
   "execution_count": 4,
   "metadata": {
    "collapsed": true
   },
   "outputs": [],
   "source": [
    "for road in roads:\n",
    "    traffic_dataset = pd.read_csv('mmda_2015_transformed/mmda_' + road + '_2015_transformed.csv', skipinitialspace=True, encoding='cp1252')\n",
    "    traffic_dataset = traffic_dataset[['dt', 'statusN', 'statusS']]\n",
    "    \n",
    "    # merge traffic and weather dataset\n",
    "    dataset = pd.concat([traffic_dataset, weather_dataset], axis=1, join='inner')\n",
    "    \n",
    "    # ensure dt is datetime\n",
    "    dataset['dt'] = pd.to_datetime(dataset['dt']) \n",
    "    \n",
    "    # make 'dt' the index\n",
    "    dataset = dataset.set_index(['dt'])\n",
    "    \n",
    "    # save to csv\n",
    "    dataset.to_csv('merged_mmda_wwo_2015/merged_mmda_wwo_' + road + '_2015.csv')"
   ]
  }
 ],
 "metadata": {
  "kernelspec": {
   "display_name": "Python 3",
   "language": "python",
   "name": "python3"
  },
  "language_info": {
   "codemirror_mode": {
    "name": "ipython",
    "version": 3
   },
   "file_extension": ".py",
   "mimetype": "text/x-python",
   "name": "python",
   "nbconvert_exporter": "python",
   "pygments_lexer": "ipython3",
   "version": "3.6.3"
  }
 },
 "nbformat": 4,
 "nbformat_minor": 2
}
