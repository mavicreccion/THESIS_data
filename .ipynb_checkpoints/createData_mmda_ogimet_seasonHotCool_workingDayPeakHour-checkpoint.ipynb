{
 "cells": [
  {
   "cell_type": "code",
   "execution_count": null,
   "metadata": {
    "collapsed": true
   },
   "outputs": [],
   "source": [
    "import numpy as np\n",
    "import pandas as pd\n",
    "import datetime\n",
    "from sklearn.preprocessing import minmax_scale"
   ]
  },
  {
   "cell_type": "markdown",
   "metadata": {},
   "source": [
    "# Get weather dataset"
   ]
  },
  {
   "cell_type": "code",
   "execution_count": null,
   "metadata": {
    "collapsed": true
   },
   "outputs": [],
   "source": [
    "def normalize(data):\n",
    "    data = minmax_scale(data)\n",
    "    return data\n",
    "\n",
    "weather_dataset = pd.read_csv('interpolated_weather_with_precip_2015_3.csv', index_col=['Date'], skipinitialspace=True, encoding='cp1252')\n",
    "\n",
    "columns = weather_dataset.columns\n",
    "for column in columns:\n",
    "    weather_dataset[column] = normalize(weather_dataset[column])"
   ]
  },
  {
   "cell_type": "markdown",
   "metadata": {},
   "source": [
    "# Get working days and peak hours only"
   ]
  },
  {
   "cell_type": "code",
   "execution_count": null,
   "metadata": {},
   "outputs": [],
   "source": [
    "# Duplicate dataset\n",
    "result_df = weather_dataset.copy()\n",
    "\n",
    "# Converting the index as date\n",
    "result_df.index = pd.to_datetime(result_df.index)\n",
    "\n",
    "# Create column work_day\n",
    "result_df['work_day'] = ((result_df.index.dayofweek) < 5).astype(int)\n",
    "\n",
    "# Consider non-working holiday\n",
    "result_df.loc['2015-01-01', 'work_day'] = 0\n",
    "result_df.loc['2015-01-02', 'work_day'] = 0\n",
    "result_df.loc['2015-01-15', 'work_day'] = 0\n",
    "result_df.loc['2015-01-16', 'work_day'] = 0\n",
    "result_df.loc['2015-01-19', 'work_day'] = 0\n",
    "result_df.loc['2015-02-19', 'work_day'] = 0\n",
    "result_df.loc['2015-02-25', 'work_day'] = 0\n",
    "result_df.loc['2015-03-16', 'work_day'] = 0\n",
    "result_df.loc['2015-04-02', 'work_day'] = 0\n",
    "result_df.loc['2015-04-03', 'work_day'] = 0\n",
    "result_df.loc['2015-04-04', 'work_day'] = 0\n",
    "result_df.loc['2015-04-09', 'work_day'] = 0\n",
    "result_df.loc['2015-05-01', 'work_day'] = 0\n",
    "result_df.loc['2015-06-11', 'work_day'] = 0\n",
    "result_df.loc['2015-06-12', 'work_day'] = 0\n",
    "result_df.loc['2015-06-24', 'work_day'] = 0\n",
    "result_df.loc['2015-07-17', 'work_day'] = 0\n",
    "result_df.loc['2015-08-21', 'work_day'] = 0\n",
    "result_df.loc['2015-08-31', 'work_day'] = 0\n",
    "result_df.loc['2015-09-25', 'work_day'] = 0\n",
    "result_df.loc['2015-11-01', 'work_day'] = 0\n",
    "result_df.loc['2015-11-17', 'work_day'] = 0\n",
    "result_df.loc['2015-11-18', 'work_day'] = 0\n",
    "result_df.loc['2015-11-19', 'work_day'] = 0\n",
    "result_df.loc['2015-11-20', 'work_day'] = 0\n",
    "result_df.loc['2015-11-30', 'work_day'] = 0\n",
    "result_df.loc['2015-12-24', 'work_day'] = 0\n",
    "result_df.loc['2015-12-25', 'work_day'] = 0\n",
    "result_df.loc['2015-12-30', 'work_day'] = 0\n",
    "result_df.loc['2015-12-31', 'work_day'] = 0\n",
    "\n",
    "# # Consider class suspension\n",
    "result_df.loc['2015-01-09', 'work_day'] = 0\n",
    "result_df.loc['2015-01-14', 'work_day'] = 0\n",
    "result_df.loc['2015-03-17', 'work_day'] = 0\n",
    "result_df.loc['2015-07-06', 'work_day'] = 0\n",
    "result_df.loc['2015-07-07', 'work_day'] = 0\n",
    "result_df.loc['2015-07-08', 'work_day'] = 0\n",
    "result_df.loc['2015-07-09', 'work_day'] = 0\n",
    "result_df.loc['2015-07-10', 'work_day'] = 0\n",
    "result_df.loc['2015-07-27', 'work_day'] = 0\n",
    "result_df.loc['2015-07-28', 'work_day'] = 0\n",
    "result_df.loc['2015-07-29', 'work_day'] = 0\n",
    "result_df.loc['2015-10-02', 'work_day'] = 0\n",
    "result_df.loc['2015-10-13', 'work_day'] = 0\n",
    "result_df.loc['2015-10-19', 'work_day'] = 0\n",
    "result_df.loc['2015-10-20', 'work_day'] = 0\n",
    "result_df.loc['2015-10-30', 'work_day'] = 0\n",
    "result_df.loc['2015-10-31', 'work_day'] = 0\n",
    "result_df.loc['2015-11-02', 'work_day'] = 0\n",
    "result_df.loc['2015-11-03', 'work_day'] = 0\n",
    "result_df.loc['2015-12-04', 'work_day'] = 0\n",
    "result_df.loc['2015-12-14', 'work_day'] = 0\n",
    "result_df.loc['2015-12-15', 'work_day'] = 0\n",
    "result_df.loc['2015-12-16', 'work_day'] = 0\n",
    "\n",
    "result_df['peak_hour'] = 0\n",
    "\n",
    "# Set morning peak hour\n",
    "\n",
    "start = datetime.time(7,0,0)\n",
    "end = datetime.time(10,0,0)\n",
    "\n",
    "result_df.loc[result_df.between_time(start, end).index, 'peak_hour'] = 1\n",
    "\n",
    "# Set afternoon peak hour\n",
    "\n",
    "start = datetime.time(16,0,0)\n",
    "end = datetime.time(19,0,0)\n",
    "\n",
    "result_df.loc[result_df.between_time(start, end).index, 'peak_hour'] = 1\n",
    "\n",
    "# Parameters\n",
    "IS_WORKDAY = 1\n",
    "IS_PEAKHOUR = 1\n",
    "\n",
    "# Filter based on parameters\n",
    "work_day_peak_hour_df = result_df[(result_df['work_day'] == IS_WORKDAY) & (result_df['peak_hour'] == IS_PEAKHOUR)]\n",
    "\n",
    "# Remove work_day and peak_hour columns\n",
    "work_day_peak_hour_df.drop(['work_day', 'peak_hour'], axis=1, inplace=True)"
   ]
  },
  {
   "cell_type": "code",
   "execution_count": null,
   "metadata": {
    "collapsed": true
   },
   "outputs": [],
   "source": [
    "roads = [\"A. Maceda\", \"Anda Circle\", \"Antipolo\", \"Bluementritt\", \"Buendia\", \"Edsa Extension\", \"Finance Road\", \"Gov. Forbes - Lacson\", \"Lerma\", \"Magsaysay Ave\", \"P.Noval\", \"Pablo Ocampo\", \"Pedro Gil\", \"Quezon Ave.\", \"Quirino\", \"Rajah Sulayman\", \"Taft Ave.\", \"U.N. Avenue\", \"Vicente Cruz\"]"
   ]
  },
  {
   "cell_type": "markdown",
   "metadata": {},
   "source": [
    "# Get wet and dry season"
   ]
  },
  {
   "cell_type": "code",
   "execution_count": null,
   "metadata": {
    "collapsed": true
   },
   "outputs": [],
   "source": [
    "def getCoolHotSeasons(my_dataset):\n",
    "    # choose hot (march to oct) season\n",
    "    start_date = '2015-03-01 00:00:00'\n",
    "    end_date = '2015-10-31 23:45:00'\n",
    "    hot_mask = (my_dataset.index >= start_date) & (my_dataset.index <= end_date)\n",
    "    hot_dataset = my_dataset.loc[hot_mask]\n",
    "    \n",
    "    # choose cool (nov to dec, jan to feb)\n",
    "    first_start_date = '2015-01-01 00:00:00'\n",
    "    first_end_date = '2015-02-28 23:45:00'\n",
    "    second_start_date = '2015-11-1 00:00:00'\n",
    "    second_end_date = '2015-12-31 23:45:00'\n",
    "    first_cool_mask = (my_dataset.index >= first_start_date) & (my_dataset.index <= first_end_date)\n",
    "    second_cool_mask = (my_dataset.index >= second_start_date) & (my_dataset.index <= second_end_date)\n",
    "    cool_dataset = my_dataset.loc[first_cool_mask]\n",
    "    cool_dataset = pd.concat([cool_dataset, my_dataset.loc[second_cool_mask]])\n",
    "    \n",
    "    return hot_dataset, cool_dataset"
   ]
  },
  {
   "cell_type": "code",
   "execution_count": null,
   "metadata": {
    "collapsed": true
   },
   "outputs": [],
   "source": [
    "for road in roads:\n",
    "    traffic_dataset = pd.read_csv('mmda_2015_transformed/mmda_' + road + '_2015_transformed.csv', index_col=['dt'], skipinitialspace=True, encoding='cp1252')\n",
    "    traffic_dataset = traffic_dataset[['statusN', 'statusS']]\n",
    "    traffic_dataset.index = pd.to_datetime(traffic_dataset.index)\n",
    "    \n",
    "    # merge traffic and weather dataset\n",
    "    dataset = pd.concat([traffic_dataset, work_day_peak_hour_df], axis=1, join='inner')\n",
    "    \n",
    "    # get hot and cool season dataset\n",
    "    hot_dataset, cool_dataset = getCoolHotSeasons(dataset)\n",
    "    \n",
    "    # save to csv\n",
    "    hot_dataset.to_csv('merged_mmda_ogimet_2015_seasonHotCool_workingDayPeakHour/merged_mmda_ogimet_' + road + '_2015_seasonHot_workingDayPeakHour.csv')\n",
    "    cool_dataset.to_csv('merged_mmda_ogimet_2015_seasonHotCool_workingDayPeakHour/merged_mmda_ogimet_' + road + '_2015_seasonCool_workingDayPeakHour.csv')"
   ]
  }
 ],
 "metadata": {
  "kernelspec": {
   "display_name": "Python 3",
   "language": "python",
   "name": "python3"
  },
  "language_info": {
   "codemirror_mode": {
    "name": "ipython",
    "version": 3
   },
   "file_extension": ".py",
   "mimetype": "text/x-python",
   "name": "python",
   "nbconvert_exporter": "python",
   "pygments_lexer": "ipython3",
   "version": "3.6.3"
  }
 },
 "nbformat": 4,
 "nbformat_minor": 2
}
